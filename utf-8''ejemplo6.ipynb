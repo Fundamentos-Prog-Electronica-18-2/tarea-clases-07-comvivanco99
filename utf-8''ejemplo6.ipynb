{
  "cells": [
    {
      "metadata": {
        "trusted": true
      },
      "cell_type": "code",
      "source": "\"\"\"\"\"\nSi el Usuario ingresa la opcion 1:\n    presentar la tabla de multiplicar de un numero que ingrese el usuario:\nSi el usuario ingresa la opcion 2:\n    presentar la tabla de sumar de un numero que ingrese el usuario.\nSi ingresar una opcion diferente:\n    presentar una cadena \"Usted ha ingresado una opcion incorrecta\"\n\n\"\"\"\"\"\noperacion = 0\ncontador = 1\nlimite = 10\nopcion = 0\nnumero = 0\ncadena_presentar = \"\"\n",
      "execution_count": 49,
      "outputs": []
    },
    {
      "metadata": {
        "trusted": true
      },
      "cell_type": "code",
      "source": "opcion = input(\"Ingrese la opcion:\\n\")\nopcion = int(opcion)\nnumero = input(\"Ingrese la opcion:\\n\")\nnumero = int(numero)",
      "execution_count": 50,
      "outputs": [
        {
          "output_type": "stream",
          "name": "stdout",
          "text": "Ingrese la opcion:\n1\nIngrese la opcion:\n2\n"
        }
      ]
    },
    {
      "metadata": {
        "trusted": true
      },
      "cell_type": "code",
      "source": "if opcion == 1:\n    while contador <= limite:\n        operacion = numero * contador\n        cadena_presentar = str(numero) + \" * \" + str(contador) + \\\n        \" = \" + str(operacion)\n        print(cadena_presentar)    \n        contador =  contador + 1\nelse: \n    if opcion == 2:\n        while contador <= limite:\n            operacion = numero + contador\n            cadena_presentar = str(numero) + \" + \" + str(contador) + \\\n            \" = \" + str(operacion)\n            print(cadena_presentar)    \n            contador =  contador + 1\n    else:\n        print(\"Usted a ingresado una opcion incorrecta\")\n",
      "execution_count": 51,
      "outputs": [
        {
          "output_type": "stream",
          "text": "2 * 1 = 2\n2 * 2 = 4\n2 * 3 = 6\n2 * 4 = 8\n2 * 5 = 10\n2 * 6 = 12\n2 * 7 = 14\n2 * 8 = 16\n2 * 9 = 18\n2 * 10 = 20\n",
          "name": "stdout"
        }
      ]
    },
    {
      "metadata": {
        "trusted": true
      },
      "cell_type": "code",
      "source": "",
      "execution_count": null,
      "outputs": []
    }
  ],
  "metadata": {
    "kernelspec": {
      "name": "python36",
      "display_name": "Python 3.6",
      "language": "python"
    },
    "language_info": {
      "mimetype": "text/x-python",
      "nbconvert_exporter": "python",
      "name": "python",
      "pygments_lexer": "ipython3",
      "version": "3.6.6",
      "file_extension": ".py",
      "codemirror_mode": {
        "version": 3,
        "name": "ipython"
      }
    }
  },
  "nbformat": 4,
  "nbformat_minor": 2
}