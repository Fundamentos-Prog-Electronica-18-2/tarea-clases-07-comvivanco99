{
  "cells": [
    {
      "metadata": {
        "trusted": true
      },
      "cell_type": "code",
      "source": "\"\"\"\"\"\nPresentar el promedio de estaturas de un conjunto de estudiantes, considerar:\n    \n    El usuario le pregunta cuantas estaturas se requiere ingresar.\n    Al final se debe presentar el ;promedio de las estaturas previamente.\n\n\"\"\"\"\"\nsuma = 0\ncontador = 1\nlimite_esta = 0\nestatura = 0\nnumero = 0\npromedio = 0\n\n",
      "execution_count": 26,
      "outputs": []
    },
    {
      "metadata": {
        "trusted": true
      },
      "cell_type": "code",
      "source": "limite_esta = input(\"Ingrese el numero de esttauras para operar:\\n\")\nlimite_esta = int(limite_esta)",
      "execution_count": 27,
      "outputs": [
        {
          "output_type": "stream",
          "name": "stdout",
          "text": "Ingrese el numero de esttauras para operar:\n5\n"
        }
      ]
    },
    {
      "metadata": {
        "trusted": true
      },
      "cell_type": "code",
      "source": "while contador <= limite_esta:\n    estatura = input(\"Ingrese una estatura:\\n\")\n    estatura = float(estatura)\n    suma = suma + estatura\n    contador = contador + 1\npromedio = suma / limite_esta\nprint(\"El promedio de esttauras es:  \")\nprint(promedio)",
      "execution_count": 28,
      "outputs": [
        {
          "output_type": "stream",
          "name": "stdout",
          "text": "Ingrese una estatura:\n10\nIngrese una estatura:\n12\nIngrese una estatura:\n11\nIngrese una estatura:\n10\nIngrese una estatura:\n10\nEl promedio de esttauras es:  \n10.6\n"
        }
      ]
    },
    {
      "metadata": {
        "trusted": true
      },
      "cell_type": "code",
      "source": "",
      "execution_count": null,
      "outputs": []
    }
  ],
  "metadata": {
    "kernelspec": {
      "name": "python36",
      "display_name": "Python 3.6",
      "language": "python"
    },
    "language_info": {
      "mimetype": "text/x-python",
      "nbconvert_exporter": "python",
      "name": "python",
      "pygments_lexer": "ipython3",
      "version": "3.6.6",
      "file_extension": ".py",
      "codemirror_mode": {
        "version": 3,
        "name": "ipython"
      }
    }
  },
  "nbformat": 4,
  "nbformat_minor": 2
}